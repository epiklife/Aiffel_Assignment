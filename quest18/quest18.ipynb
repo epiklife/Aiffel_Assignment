{
 "cells": [
  {
   "cell_type": "markdown",
   "id": "30de4cc0",
   "metadata": {},
   "source": [
    "### 한국어 데이터로 챗봇 만들기"
   ]
  },
  {
   "cell_type": "code",
   "execution_count": 1,
   "id": "f183499c",
   "metadata": {},
   "outputs": [],
   "source": [
    "import tensorflow as tf\n",
    "import tensorflow_datasets as tfds\n",
    "import os\n",
    "import re\n",
    "import numpy as np\n",
    "import pandas as pd\n",
    "import matplotlib.pyplot as plt\n",
    "import random"
   ]
  },
  {
   "cell_type": "markdown",
   "id": "cae1cfff",
   "metadata": {},
   "source": [
    "songys/Chatbot_data(https://github.com/songys/Chatbot_data/blob/master/ChatbotData.csv) 에서 한국어 챗봇 데이터는 송영숙님이 공개한 챗봇 데이터를 사용"
   ]
  },
  {
   "cell_type": "code",
   "execution_count": 2,
   "id": "e87fd0f7",
   "metadata": {},
   "outputs": [
    {
     "data": {
      "text/html": [
       "<div>\n",
       "<style scoped>\n",
       "    .dataframe tbody tr th:only-of-type {\n",
       "        vertical-align: middle;\n",
       "    }\n",
       "\n",
       "    .dataframe tbody tr th {\n",
       "        vertical-align: top;\n",
       "    }\n",
       "\n",
       "    .dataframe thead th {\n",
       "        text-align: right;\n",
       "    }\n",
       "</style>\n",
       "<table border=\"1\" class=\"dataframe\">\n",
       "  <thead>\n",
       "    <tr style=\"text-align: right;\">\n",
       "      <th></th>\n",
       "      <th>Q</th>\n",
       "      <th>A</th>\n",
       "      <th>label</th>\n",
       "    </tr>\n",
       "  </thead>\n",
       "  <tbody>\n",
       "    <tr>\n",
       "      <th>0</th>\n",
       "      <td>12시 땡!</td>\n",
       "      <td>하루가 또 가네요.</td>\n",
       "      <td>0</td>\n",
       "    </tr>\n",
       "    <tr>\n",
       "      <th>1</th>\n",
       "      <td>1지망 학교 떨어졌어</td>\n",
       "      <td>위로해 드립니다.</td>\n",
       "      <td>0</td>\n",
       "    </tr>\n",
       "    <tr>\n",
       "      <th>2</th>\n",
       "      <td>3박4일 놀러가고 싶다</td>\n",
       "      <td>여행은 언제나 좋죠.</td>\n",
       "      <td>0</td>\n",
       "    </tr>\n",
       "    <tr>\n",
       "      <th>3</th>\n",
       "      <td>3박4일 정도 놀러가고 싶다</td>\n",
       "      <td>여행은 언제나 좋죠.</td>\n",
       "      <td>0</td>\n",
       "    </tr>\n",
       "    <tr>\n",
       "      <th>4</th>\n",
       "      <td>PPL 심하네</td>\n",
       "      <td>눈살이 찌푸려지죠.</td>\n",
       "      <td>0</td>\n",
       "    </tr>\n",
       "  </tbody>\n",
       "</table>\n",
       "</div>"
      ],
      "text/plain": [
       "                 Q            A  label\n",
       "0           12시 땡!   하루가 또 가네요.      0\n",
       "1      1지망 학교 떨어졌어    위로해 드립니다.      0\n",
       "2     3박4일 놀러가고 싶다  여행은 언제나 좋죠.      0\n",
       "3  3박4일 정도 놀러가고 싶다  여행은 언제나 좋죠.      0\n",
       "4          PPL 심하네   눈살이 찌푸려지죠.      0"
      ]
     },
     "execution_count": 2,
     "metadata": {},
     "output_type": "execute_result"
    }
   ],
   "source": [
    "data_path = './data/ChatbotData.csv'\n",
    "data = pd.read_csv(data_path)\n",
    "data.head()"
   ]
  },
  {
   "cell_type": "markdown",
   "id": "534d15a7",
   "metadata": {},
   "source": [
    "#### Step 2. 데이터 전처리하기"
   ]
  },
  {
   "cell_type": "code",
   "execution_count": 3,
   "id": "ba72f450",
   "metadata": {},
   "outputs": [],
   "source": [
    "import re\n",
    "\n",
    "def preprocess_sentence(sentence):\n",
    "    # 입력받은 sentence를 소문자로 변경하고 양쪽 공백을 제거\n",
    "    sentence = sentence.strip()\n",
    "\n",
    "    # 단어와 구두점(punctuation) 사이의 거리를 만듭니다.\n",
    "    # 예를 들어서 \"나는 학생입니다.\" => \"나는 학생 입니다 .\"와 같이\n",
    "    # 학생과 마침표 사이에 거리를 만듭니다.\n",
    "    sentence = re.sub(r\"([?.!,])\", r\" \\1 \", sentence)\n",
    "    sentence = re.sub(r'[\" \"]+', \" \", sentence)\n",
    "\n",
    "    # (ㄱㅎ가-힣, \".\", \"?\", \"!\", \",\")를 제외한 모든 문자를 공백인 ' '로 대체합니다.\n",
    "#     sentence = re.sub(r\"[^ㄱ-ㅎ가-힣?.!,]+\", \" \", sentence)\n",
    "    sentence = re.sub(r\"[^0-9ㄱ-ㅎ가-힣?.!,]+\", \" \", sentence)\n",
    "    sentence = sentence.strip()\n",
    "    return sentence"
   ]
  },
  {
   "cell_type": "code",
   "execution_count": 4,
   "id": "0511e35e",
   "metadata": {},
   "outputs": [],
   "source": [
    "# 질문과 답변의 쌍인 데이터셋을 구성하기 위한 데이터 로드 함수\n",
    "def load_conversations(_data):\n",
    "    Q = _data['Q']\n",
    "    A = _data['A']\n",
    "    Label = _data['label']\n",
    "\n",
    "\n",
    "    Q = [preprocess_sentence(q) for q in _data['Q']]\n",
    "    A = [preprocess_sentence(a) for a in _data['A']]\n",
    "    return Q, A, Label"
   ]
  },
  {
   "cell_type": "code",
   "execution_count": 5,
   "id": "ead70ee7",
   "metadata": {},
   "outputs": [
    {
     "name": "stdout",
     "output_type": "stream",
     "text": [
      "전체 샘플 수 : 11823\n",
      "전체 샘플 수 : 11823\n",
      "전처리 후의 22번째 질문 샘플: 1지망 학교 떨어졌어\n",
      "전처리 후의 22번째 답변 샘플: 위로해 드립니다 .\n"
     ]
    }
   ],
   "source": [
    "questions, answers, label = load_conversations(data)\n",
    "print('전체 샘플 수 :', len(questions))\n",
    "print('전체 샘플 수 :', len(answers))\n",
    "\n",
    "print('전처리 후의 22번째 질문 샘플: {}'.format(questions[1]))\n",
    "print('전처리 후의 22번째 답변 샘플: {}'.format(answers[1]))"
   ]
  },
  {
   "cell_type": "markdown",
   "id": "97e2fe37",
   "metadata": {},
   "source": [
    "#### Step 3. SubwordTextEncoder 사용하기"
   ]
  },
  {
   "cell_type": "code",
   "execution_count": 6,
   "id": "40e012db",
   "metadata": {},
   "outputs": [],
   "source": [
    "import tensorflow_datasets as tfds\n",
    "# 질문과 답변 데이터셋에 대해서 Vocabulary 생성\n",
    "tokenizer = tfds.deprecated.text.SubwordTextEncoder.build_from_corpus(questions + answers, target_vocab_size=2**13)"
   ]
  },
  {
   "cell_type": "code",
   "execution_count": 7,
   "id": "103932c7",
   "metadata": {},
   "outputs": [
    {
     "name": "stdout",
     "output_type": "stream",
     "text": [
      "START_TOKEN의 번호 : [8158]\n",
      "END_TOKEN의 번호 : [8159]\n"
     ]
    }
   ],
   "source": [
    "# 시작 토큰과 종료 토큰에 고유한 정수를 부여합니다.\n",
    "START_TOKEN, END_TOKEN = [tokenizer.vocab_size], [tokenizer.vocab_size + 1]\n",
    "print('START_TOKEN의 번호 :' ,[tokenizer.vocab_size])\n",
    "print('END_TOKEN의 번호 :' ,[tokenizer.vocab_size + 1])"
   ]
  },
  {
   "cell_type": "code",
   "execution_count": 8,
   "id": "c68364e8",
   "metadata": {},
   "outputs": [
    {
     "name": "stdout",
     "output_type": "stream",
     "text": [
      "8160\n"
     ]
    }
   ],
   "source": [
    "# 시작 토큰과 종료 토큰을 고려하여 +2를 하여 단어장의 크기를 산정합니다.\n",
    "VOCAB_SIZE = tokenizer.vocab_size + 2\n",
    "print(VOCAB_SIZE)"
   ]
  },
  {
   "cell_type": "code",
   "execution_count": 9,
   "id": "69d826b7",
   "metadata": {},
   "outputs": [
    {
     "data": {
      "image/png": "[encoded data removed]",
      "text/plain": [
       "<Figure size 432x288 with 1 Axes>"
      ]
     },
     "metadata": {
      "needs_background": "light"
     },
     "output_type": "display_data"
    },
    {
     "name": "stdout",
     "output_type": "stream",
     "text": [
      "최대 길이: 29\n",
      "최소 길이: 1\n",
      "평균 길이: 5.651188361667935\n",
      "표준 편차: 2.5598725969048175\n"
     ]
    }
   ],
   "source": [
    "import matplotlib.pyplot as plt\n",
    "import numpy as np\n",
    "combined = questions + answers\n",
    "# 텍스트를 토크나이즈하여 토큰 수 계산\n",
    "sentence_lengths = [len(tokenizer.encode(sentence)) for sentence in combined]\n",
    "\n",
    "# 최대, 최소, 평균, 표준편차 계산\n",
    "max_length = np.max(sentence_lengths)\n",
    "min_length = np.min(sentence_lengths)\n",
    "average_length = np.mean(sentence_lengths)\n",
    "std_length = np.std(sentence_lengths)\n",
    "\n",
    "# 히스토그램 그리기\n",
    "plt.hist(sentence_lengths, bins=50)\n",
    "plt.xlabel('length')\n",
    "plt.ylabel('frequency')\n",
    "plt.title('Sentence length distribution')\n",
    "plt.show()\n",
    "\n",
    "print(\"최대 길이:\", max_length)\n",
    "print(\"최소 길이:\", min_length)\n",
    "print(\"평균 길이:\", average_length)\n",
    "print(\"표준 편차:\", std_length)"
   ]
  },
  {
   "cell_type": "code",
   "execution_count": 10,
   "id": "795eb763",
   "metadata": {},
   "outputs": [],
   "source": [
    "MAX_LENGTH = max_length\n",
    "\n",
    "# 정수 인코딩, 최대 길이를 초과하는 샘플 제거, 패딩\n",
    "def tokenize_and_filter(inputs, outputs):\n",
    "  tokenized_inputs, tokenized_outputs = [], []\n",
    "  \n",
    "  for (sentence1, sentence2) in zip(inputs, outputs):\n",
    "    # 정수 인코딩 과정에서 시작 토큰과 종료 토큰을 추가\n",
    "    sentence1 = START_TOKEN + tokenizer.encode(sentence1) + END_TOKEN\n",
    "    sentence2 = START_TOKEN + tokenizer.encode(sentence2) + END_TOKEN\n",
    "\n",
    "    # 최대 길이 이하인 경우에만 데이터셋으로 허용\n",
    "    if len(sentence1) <= MAX_LENGTH and len(sentence2) <= MAX_LENGTH:\n",
    "      tokenized_inputs.append(sentence1)\n",
    "      tokenized_outputs.append(sentence2)\n",
    "  \n",
    "  # 최대 길이 40으로 모든 데이터셋을 패딩\n",
    "  tokenized_inputs = tf.keras.preprocessing.sequence.pad_sequences(\n",
    "      tokenized_inputs, maxlen=MAX_LENGTH, padding='post')\n",
    "  tokenized_outputs = tf.keras.preprocessing.sequence.pad_sequences(\n",
    "      tokenized_outputs, maxlen=MAX_LENGTH, padding='post')\n",
    "  \n",
    "  return tokenized_inputs, tokenized_outputs"
   ]
  },
  {
   "cell_type": "code",
   "execution_count": 11,
   "id": "15213b74",
   "metadata": {},
   "outputs": [
    {
     "name": "stdout",
     "output_type": "stream",
     "text": [
      "단어장의 크기 : 8160\n",
      "필터링 후의 질문 샘플 개수: 11821\n",
      "필터링 후의 답변 샘플 개수: 11821\n"
     ]
    }
   ],
   "source": [
    "questions, answers = tokenize_and_filter(questions, answers)\n",
    "print('단어장의 크기 :',(VOCAB_SIZE))\n",
    "print('필터링 후의 질문 샘플 개수: {}'.format(len(questions)))\n",
    "print('필터링 후의 답변 샘플 개수: {}'.format(len(answers)))"
   ]
  },
  {
   "cell_type": "markdown",
   "id": "4470f47b",
   "metadata": {},
   "source": [
    "- val dataset 구성\n",
    "### 현재 사용 안함"
   ]
  },
  {
   "cell_type": "code",
   "execution_count": 12,
   "id": "2832486b",
   "metadata": {},
   "outputs": [
    {
     "name": "stdout",
     "output_type": "stream",
     "text": [
      "11300\n"
     ]
    }
   ],
   "source": [
    "# 사용할 샘플의 최대 개수\n",
    "train_size = 11300\n",
    "print(train_size)"
   ]
  },
  {
   "cell_type": "code",
   "execution_count": 13,
   "id": "162a8ef6",
   "metadata": {},
   "outputs": [],
   "source": [
    "def do_not_use():\n",
    "    # 데이터를 질문과 답변을 함께 섞음\n",
    "    random.seed(42)  # 재현 가능한 랜덤 결과를 위해 시드 설정\n",
    "    combined_data = list(zip(questions, answers))\n",
    "    random.shuffle(combined_data)\n",
    "    Q, A = zip(*combined_data)\n",
    "\n",
    "    train_questions = Q[:train_size]\n",
    "    train_answers = A[:train_size]\n",
    "\n",
    "    val_questions = Q[train_size:]\n",
    "    val_answers = A[train_size:]\n",
    "\n",
    "    train_questions = list(train_questions)\n",
    "    train_answers = list(train_answers)\n",
    "\n",
    "    val_questions = list(val_questions)\n",
    "    val_answers = list(val_answers)\n",
    "    print('훈련 질문 샘플 수:', len(train_questions))\n",
    "    print('훈련 답변 샘플 수:', len(train_answers))\n",
    "    print('검증 질문 샘플 수:', len(val_questions))\n",
    "    print('검증 답변 샘플 수:', len(val_answers))"
   ]
  },
  {
   "cell_type": "code",
   "execution_count": 14,
   "id": "5620e983",
   "metadata": {},
   "outputs": [],
   "source": [
    "BATCH_SIZE = 64\n",
    "BUFFER_SIZE = 10000\n",
    "# 디코더는 이전의 target을 다음의 input으로 사용합니다.\n",
    "# 이에 따라 outputs에서는 START_TOKEN을 제거하겠습니다.\n",
    "dataset = tf.data.Dataset.from_tensor_slices((\n",
    "    {\n",
    "        'inputs': questions,\n",
    "        'dec_inputs': answers[:, :-1]\n",
    "    },\n",
    "    {\n",
    "        'outputs': answers[:, 1:]\n",
    "    },\n",
    "))\n",
    "\n",
    "dataset = dataset.cache()\n",
    "dataset = dataset.shuffle(BUFFER_SIZE)\n",
    "dataset = dataset.batch(BATCH_SIZE)\n",
    "dataset = dataset.prefetch(tf.data.experimental.AUTOTUNE)"
   ]
  },
  {
   "cell_type": "markdown",
   "id": "66d4bca7",
   "metadata": {},
   "source": [
    "#### Step 4. 모델 구성하기"
   ]
  },
  {
   "cell_type": "code",
   "execution_count": 15,
   "id": "18eae2e1",
   "metadata": {},
   "outputs": [],
   "source": [
    "def create_padding_mask(x):\n",
    "  mask = tf.cast(tf.math.equal(x, 0), tf.float32)\n",
    "  # (batch_size, 1, 1, sequence length)\n",
    "  return mask[:, tf.newaxis, tf.newaxis, :]"
   ]
  },
  {
   "cell_type": "code",
   "execution_count": 16,
   "id": "310333e6",
   "metadata": {},
   "outputs": [],
   "source": [
    "def create_look_ahead_mask(x):\n",
    "  seq_len = tf.shape(x)[1]\n",
    "  look_ahead_mask = 1 - tf.linalg.band_part(tf.ones((seq_len, seq_len)), -1, 0)\n",
    "  padding_mask = create_padding_mask(x)\n",
    "  return tf.maximum(look_ahead_mask, padding_mask)"
   ]
  },
  {
   "cell_type": "code",
   "execution_count": 17,
   "id": "62bbc3ba",
   "metadata": {},
   "outputs": [],
   "source": [
    "# 인코더 하나의 레이어를 함수로 구현.\n",
    "# 이 하나의 레이어 안에는 두 개의 서브 레이어가 존재합니다.\n",
    "def encoder_layer(units, d_model, num_heads, dropout, name=\"encoder_layer\"):\n",
    "  inputs = tf.keras.Input(shape=(None, d_model), name=\"inputs\")\n",
    "\n",
    "  # 패딩 마스크 사용\n",
    "  padding_mask = tf.keras.Input(shape=(1, 1, None), name=\"padding_mask\")\n",
    "\n",
    "  # 첫 번째 서브 레이어 : 멀티 헤드 어텐션 수행 (셀프 어텐션)\n",
    "  attention = MultiHeadAttention(\n",
    "      d_model, num_heads, name=\"attention\")({\n",
    "          'query': inputs,\n",
    "          'key': inputs,\n",
    "          'value': inputs,\n",
    "          'mask': padding_mask\n",
    "      })\n",
    "\n",
    "  # 어텐션의 결과는 Dropout과 Layer Normalization이라는 훈련을 돕는 테크닉을 수행\n",
    "  attention = tf.keras.layers.Dropout(rate=dropout)(attention)\n",
    "  attention = tf.keras.layers.LayerNormalization(\n",
    "      epsilon=1e-6)(inputs + attention)\n",
    "\n",
    "  # 두 번째 서브 레이어 : 2개의 완전연결층\n",
    "  outputs = tf.keras.layers.Dense(units=units, activation='relu')(attention)\n",
    "  outputs = tf.keras.layers.Dense(units=d_model)(outputs)\n",
    "\n",
    "  # 완전연결층의 결과는 Dropout과 LayerNormalization이라는 훈련을 돕는 테크닉을 수행\n",
    "  outputs = tf.keras.layers.Dropout(rate=dropout)(outputs)\n",
    "  outputs = tf.keras.layers.LayerNormalization(\n",
    "      epsilon=1e-6)(attention + outputs)\n",
    "\n",
    "  return tf.keras.Model(\n",
    "      inputs=[inputs, padding_mask], outputs=outputs, name=name)"
   ]
  },
  {
   "cell_type": "code",
   "execution_count": 18,
   "id": "6f8a2ce5",
   "metadata": {},
   "outputs": [],
   "source": [
    "# 포지셔널 인코딩 레이어\n",
    "class PositionalEncoding(tf.keras.layers.Layer):\n",
    "\n",
    "  def __init__(self, position, d_model):\n",
    "    super(PositionalEncoding, self).__init__()\n",
    "    self.pos_encoding = self.positional_encoding(position, d_model)\n",
    "\n",
    "  def get_angles(self, position, i, d_model):\n",
    "    angles = 1 / tf.pow(10000, (2 * (i // 2)) / tf.cast(d_model, tf.float32))\n",
    "    return position * angles\n",
    "\n",
    "  def positional_encoding(self, position, d_model):\n",
    "    # 각도 배열 생성\n",
    "    angle_rads = self.get_angles(\n",
    "        position=tf.range(position, dtype=tf.float32)[:, tf.newaxis],\n",
    "        i=tf.range(d_model, dtype=tf.float32)[tf.newaxis, :],\n",
    "        d_model=d_model)\n",
    "\n",
    "    # 배열의 짝수 인덱스에는 sin 함수 적용\n",
    "    sines = tf.math.sin(angle_rads[:, 0::2])\n",
    "    # 배열의 홀수 인덱스에는 cosine 함수 적용\n",
    "    cosines = tf.math.cos(angle_rads[:, 1::2])\n",
    "\n",
    "    # sin과 cosine이 교차되도록 재배열\n",
    "    pos_encoding = tf.stack([sines, cosines], axis=0)\n",
    "    pos_encoding = tf.transpose(pos_encoding,[1, 2, 0]) \n",
    "    pos_encoding = tf.reshape(pos_encoding, [position, d_model])\n",
    "\n",
    "    pos_encoding = pos_encoding[tf.newaxis, ...]\n",
    "    return tf.cast(pos_encoding, tf.float32)\n",
    "\n",
    "  def call(self, inputs):\n",
    "    return inputs + self.pos_encoding[:, :tf.shape(inputs)[1], :]"
   ]
  },
  {
   "cell_type": "code",
   "execution_count": 19,
   "id": "82e03b79",
   "metadata": {},
   "outputs": [],
   "source": [
    "def encoder(vocab_size,\n",
    "            num_layers,\n",
    "            units,\n",
    "            d_model,\n",
    "            num_heads,\n",
    "            dropout,\n",
    "            name=\"encoder\"):\n",
    "  inputs = tf.keras.Input(shape=(None,), name=\"inputs\")\n",
    "\n",
    "  # 패딩 마스크 사용\n",
    "  padding_mask = tf.keras.Input(shape=(1, 1, None), name=\"padding_mask\")\n",
    "\n",
    "  # 임베딩 레이어\n",
    "  embeddings = tf.keras.layers.Embedding(vocab_size, d_model)(inputs)\n",
    "  embeddings *= tf.math.sqrt(tf.cast(d_model, tf.float32))\n",
    "\n",
    "  # 포지셔널 인코딩\n",
    "  embeddings = PositionalEncoding(vocab_size, d_model)(embeddings)\n",
    "\n",
    "  outputs = tf.keras.layers.Dropout(rate=dropout)(embeddings)\n",
    "\n",
    "  # num_layers만큼 쌓아올린 인코더의 층.\n",
    "  for i in range(num_layers):\n",
    "    outputs = encoder_layer(\n",
    "        units=units,\n",
    "        d_model=d_model,\n",
    "        num_heads=num_heads,\n",
    "        dropout=dropout,\n",
    "        name=\"encoder_layer_{}\".format(i),\n",
    "    )([outputs, padding_mask])\n",
    "\n",
    "  return tf.keras.Model(\n",
    "      inputs=[inputs, padding_mask], outputs=outputs, name=name)"
   ]
  },
  {
   "cell_type": "code",
   "execution_count": 20,
   "id": "56c32e19",
   "metadata": {},
   "outputs": [],
   "source": [
    "# 디코더 하나의 레이어를 함수로 구현.\n",
    "# 이 하나의 레이어 안에는 세 개의 서브 레이어가 존재합니다.\n",
    "def decoder_layer(units, d_model, num_heads, dropout, name=\"decoder_layer\"):\n",
    "  inputs = tf.keras.Input(shape=(None, d_model), name=\"inputs\")\n",
    "  enc_outputs = tf.keras.Input(shape=(None, d_model), name=\"encoder_outputs\")\n",
    "  look_ahead_mask = tf.keras.Input(\n",
    "      shape=(1, None, None), name=\"look_ahead_mask\")\n",
    "  padding_mask = tf.keras.Input(shape=(1, 1, None), name='padding_mask')\n",
    "\n",
    "  # 첫 번째 서브 레이어 : 멀티 헤드 어텐션 수행 (셀프 어텐션)\n",
    "  attention1 = MultiHeadAttention(\n",
    "      d_model, num_heads, name=\"attention_1\")(inputs={\n",
    "          'query': inputs,\n",
    "          'key': inputs,\n",
    "          'value': inputs,\n",
    "          'mask': look_ahead_mask\n",
    "      })\n",
    "\n",
    "  # 멀티 헤드 어텐션의 결과는 LayerNormalization이라는 훈련을 돕는 테크닉을 수행\n",
    "  attention1 = tf.keras.layers.LayerNormalization(\n",
    "      epsilon=1e-6)(attention1 + inputs)\n",
    "\n",
    "  # 두 번째 서브 레이어 : 마스크드 멀티 헤드 어텐션 수행 (인코더-디코더 어텐션)\n",
    "  attention2 = MultiHeadAttention(\n",
    "      d_model, num_heads, name=\"attention_2\")(inputs={\n",
    "          'query': attention1,\n",
    "          'key': enc_outputs,\n",
    "          'value': enc_outputs,\n",
    "          'mask': padding_mask\n",
    "      })\n",
    "\n",
    "  # 마스크드 멀티 헤드 어텐션의 결과는\n",
    "  # Dropout과 LayerNormalization이라는 훈련을 돕는 테크닉을 수행\n",
    "  attention2 = tf.keras.layers.Dropout(rate=dropout)(attention2)\n",
    "  attention2 = tf.keras.layers.LayerNormalization(\n",
    "      epsilon=1e-6)(attention2 + attention1)\n",
    "\n",
    "  # 세 번째 서브 레이어 : 2개의 완전연결층\n",
    "  outputs = tf.keras.layers.Dense(units=units, activation='relu')(attention2)\n",
    "  outputs = tf.keras.layers.Dense(units=d_model)(outputs)\n",
    "\n",
    "  # 완전연결층의 결과는 Dropout과 LayerNormalization 수행\n",
    "  outputs = tf.keras.layers.Dropout(rate=dropout)(outputs)\n",
    "  outputs = tf.keras.layers.LayerNormalization(\n",
    "      epsilon=1e-6)(outputs + attention2)\n",
    "\n",
    "  return tf.keras.Model(\n",
    "      inputs=[inputs, enc_outputs, look_ahead_mask, padding_mask],\n",
    "      outputs=outputs,\n",
    "      name=name)"
   ]
  },
  {
   "cell_type": "code",
   "execution_count": 21,
   "id": "32326fbd",
   "metadata": {},
   "outputs": [],
   "source": [
    "def decoder(vocab_size,\n",
    "            num_layers,\n",
    "            units,\n",
    "            d_model,\n",
    "            num_heads,\n",
    "            dropout,\n",
    "            name='decoder'):\n",
    "  inputs = tf.keras.Input(shape=(None,), name='inputs')\n",
    "  enc_outputs = tf.keras.Input(shape=(None, d_model), name='encoder_outputs')\n",
    "  look_ahead_mask = tf.keras.Input(\n",
    "      shape=(1, None, None), name='look_ahead_mask')\n",
    "\n",
    "  # 패딩 마스크\n",
    "  padding_mask = tf.keras.Input(shape=(1, 1, None), name='padding_mask')\n",
    "  \n",
    "  # 임베딩 레이어\n",
    "  embeddings = tf.keras.layers.Embedding(vocab_size, d_model)(inputs)\n",
    "  embeddings *= tf.math.sqrt(tf.cast(d_model, tf.float32))\n",
    "\n",
    "  # 포지셔널 인코딩\n",
    "  embeddings = PositionalEncoding(vocab_size, d_model)(embeddings)\n",
    "\n",
    "  # Dropout이라는 훈련을 돕는 테크닉을 수행\n",
    "  outputs = tf.keras.layers.Dropout(rate=dropout)(embeddings)\n",
    "\n",
    "  for i in range(num_layers):\n",
    "    outputs = decoder_layer(\n",
    "        units=units,\n",
    "        d_model=d_model,\n",
    "        num_heads=num_heads,\n",
    "        dropout=dropout,\n",
    "        name='decoder_layer_{}'.format(i),\n",
    "    )(inputs=[outputs, enc_outputs, look_ahead_mask, padding_mask])\n",
    "\n",
    "  return tf.keras.Model(\n",
    "      inputs=[inputs, enc_outputs, look_ahead_mask, padding_mask],\n",
    "      outputs=outputs,\n",
    "      name=name)"
   ]
  },
  {
   "cell_type": "code",
   "execution_count": 22,
   "id": "119d0db0",
   "metadata": {},
   "outputs": [],
   "source": [
    "# 스케일드 닷 프로덕트 어텐션 함수\n",
    "def scaled_dot_product_attention(query, key, value, mask):\n",
    "  # 어텐션 가중치는 Q와 K의 닷 프로덕트\n",
    "  matmul_qk = tf.matmul(query, key, transpose_b=True)\n",
    "\n",
    "  # 가중치를 정규화\n",
    "  depth = tf.cast(tf.shape(key)[-1], tf.float32)\n",
    "  logits = matmul_qk / tf.math.sqrt(depth)\n",
    "\n",
    "  # 패딩에 마스크 추가\n",
    "  if mask is not None:\n",
    "    logits += (mask * -1e9)\n",
    "\n",
    "  # softmax적용\n",
    "  attention_weights = tf.nn.softmax(logits, axis=-1)\n",
    "\n",
    "  # 최종 어텐션은 가중치와 V의 닷 프로덕트\n",
    "  output = tf.matmul(attention_weights, value)\n",
    "  return output"
   ]
  },
  {
   "cell_type": "code",
   "execution_count": 23,
   "id": "3ba22472",
   "metadata": {},
   "outputs": [],
   "source": [
    "class MultiHeadAttention(tf.keras.layers.Layer):\n",
    "\n",
    "  def __init__(self, d_model, num_heads, name=\"multi_head_attention\"):\n",
    "    super(MultiHeadAttention, self).__init__(name=name)\n",
    "    self.num_heads = num_heads\n",
    "    self.d_model = d_model\n",
    "\n",
    "    assert d_model % self.num_heads == 0\n",
    "\n",
    "    self.depth = d_model // self.num_heads\n",
    "\n",
    "    self.query_dense = tf.keras.layers.Dense(units=d_model)\n",
    "    self.key_dense = tf.keras.layers.Dense(units=d_model)\n",
    "    self.value_dense = tf.keras.layers.Dense(units=d_model)\n",
    "\n",
    "    self.dense = tf.keras.layers.Dense(units=d_model)\n",
    "\n",
    "  def split_heads(self, inputs, batch_size):\n",
    "    inputs = tf.reshape(\n",
    "        inputs, shape=(batch_size, -1, self.num_heads, self.depth))\n",
    "    return tf.transpose(inputs, perm=[0, 2, 1, 3])\n",
    "\n",
    "  def call(self, inputs):\n",
    "    query, key, value, mask = inputs['query'], inputs['key'], inputs[\n",
    "        'value'], inputs['mask']\n",
    "    batch_size = tf.shape(query)[0]\n",
    "\n",
    "    # Q, K, V에 각각 Dense를 적용합니다\n",
    "    query = self.query_dense(query)  # Q에 Dense를 적용하여 query를 계산합니다\n",
    "    key = self.key_dense(key)  # K에 Dense를 적용하여 key를 계산합니다\n",
    "    value = self.value_dense(value)  # V에 Dense를 적용하여 value를 계산합니다\n",
    "\n",
    "    # 병렬 연산을 위한 머리를 여러 개 만듭니다\n",
    "    query = self.split_heads(query, batch_size)  # query를 머리 수(num_heads)로 분할합니다\n",
    "    key = self.split_heads(key, batch_size)  # key를 머리 수(num_heads)로 분할합니다\n",
    "    value = self.split_heads(value, batch_size)  # value를 머리 수(num_heads)로 분할합니다\n",
    "\n",
    "    # 스케일드 닷 프로덕트 어텐션 함수\n",
    "    scaled_attention = scaled_dot_product_attention(query, key, value, mask)\n",
    "\n",
    "    scaled_attention = tf.transpose(scaled_attention, perm=[0, 2, 1, 3])\n",
    "\n",
    "    # 어텐션 연산 후에 각 결과를 다시 연결(concatenate)합니다\n",
    "    concat_attention = tf.reshape(scaled_attention,\n",
    "                                  (batch_size, -1, self.d_model))\n",
    "\n",
    "    # 최종 결과에도 Dense를 한 번 더 적용합니다\n",
    "    outputs = self.dense(concat_attention)\n",
    "\n",
    "    return outputs"
   ]
  },
  {
   "cell_type": "code",
   "execution_count": 24,
   "id": "b3216cfc",
   "metadata": {},
   "outputs": [],
   "source": [
    "def transformer(vocab_size,\n",
    "                num_layers,\n",
    "                units,\n",
    "                d_model,\n",
    "                num_heads,\n",
    "                dropout,\n",
    "                name=\"transformer\"):\n",
    "  inputs = tf.keras.Input(shape=(None,), name=\"inputs\")\n",
    "  dec_inputs = tf.keras.Input(shape=(None,), name=\"dec_inputs\")\n",
    "\n",
    "  # 인코더에서 패딩을 위한 마스크\n",
    "  enc_padding_mask = tf.keras.layers.Lambda(\n",
    "      create_padding_mask, output_shape=(1, 1, None),\n",
    "      name='enc_padding_mask')(inputs)\n",
    "\n",
    "  # 디코더에서 미래의 토큰을 마스크 하기 위해서 사용합니다.\n",
    "  # 내부적으로 패딩 마스크도 포함되어져 있습니다.\n",
    "  look_ahead_mask = tf.keras.layers.Lambda(\n",
    "      create_look_ahead_mask,\n",
    "      output_shape=(1, None, None),\n",
    "      name='look_ahead_mask')(dec_inputs)\n",
    "\n",
    "  # 두 번째 어텐션 블록에서 인코더의 벡터들을 마스킹\n",
    "  # 디코더에서 패딩을 위한 마스크\n",
    "  dec_padding_mask = tf.keras.layers.Lambda(\n",
    "      create_padding_mask, output_shape=(1, 1, None),\n",
    "      name='dec_padding_mask')(inputs)\n",
    "\n",
    "  # 인코더\n",
    "  enc_outputs = encoder(\n",
    "      vocab_size=vocab_size,\n",
    "      num_layers=num_layers,\n",
    "      units=units,\n",
    "      d_model=d_model,\n",
    "      num_heads=num_heads,\n",
    "      dropout=dropout,\n",
    "  )(inputs=[inputs, enc_padding_mask])\n",
    "\n",
    "  # 디코더\n",
    "  dec_outputs = decoder(\n",
    "      vocab_size=vocab_size,\n",
    "      num_layers=num_layers,\n",
    "      units=units,\n",
    "      d_model=d_model,\n",
    "      num_heads=num_heads,\n",
    "      dropout=dropout,\n",
    "  )(inputs=[dec_inputs, enc_outputs, look_ahead_mask, dec_padding_mask])\n",
    "\n",
    "  # 완전연결층\n",
    "  outputs = tf.keras.layers.Dense(units=vocab_size, name=\"outputs\")(dec_outputs)\n",
    "\n",
    "  return tf.keras.Model(inputs=[inputs, dec_inputs], outputs=outputs, name=name)"
   ]
  },
  {
   "cell_type": "code",
   "execution_count": 25,
   "id": "b5c51040",
   "metadata": {},
   "outputs": [],
   "source": [
    "tf.keras.backend.clear_session()\n",
    "\n",
    "NUM_LAYERS = 2 # 인코더와 디코더의 층의 개수\n",
    "D_MODEL = 256 # 인코더와 디코더 내부의 입, 출력의 고정 차원\n",
    "NUM_HEADS = 8 # 멀티 헤드 어텐션에서의 헤드 수 \n",
    "UNITS = 512 # 피드 포워드 신경망의 은닉층의 크기\n",
    "DROPOUT = 0.1 # 드롭아웃의 비율\n",
    "EPOCHS = 80 # 반복횟수\n",
    "model = transformer(\n",
    "    vocab_size=VOCAB_SIZE,\n",
    "    num_layers=NUM_LAYERS,\n",
    "    units=UNITS,\n",
    "    d_model=D_MODEL,\n",
    "    num_heads=NUM_HEADS,\n",
    "    dropout=DROPOUT)"
   ]
  },
  {
   "cell_type": "code",
   "execution_count": 26,
   "id": "053911d5",
   "metadata": {},
   "outputs": [],
   "source": [
    "def loss_function(y_true, y_pred):\n",
    "  y_true = tf.reshape(y_true, shape=(-1, MAX_LENGTH - 1))\n",
    "  \n",
    "  loss = tf.keras.losses.SparseCategoricalCrossentropy(\n",
    "      from_logits=True, reduction='none')(y_true, y_pred)\n",
    "\n",
    "  mask = tf.cast(tf.not_equal(y_true, 0), tf.float32)\n",
    "  loss = tf.multiply(loss, mask)\n",
    "\n",
    "  return tf.reduce_mean(loss)"
   ]
  },
  {
   "cell_type": "code",
   "execution_count": 27,
   "id": "bf0a0d9c",
   "metadata": {},
   "outputs": [],
   "source": [
    "class CustomSchedule(tf.keras.optimizers.schedules.LearningRateSchedule):\n",
    "\n",
    "  def __init__(self, d_model, warmup_steps=2500):\n",
    "    super(CustomSchedule, self).__init__()\n",
    "\n",
    "    self.d_model = d_model\n",
    "    self.d_model = tf.cast(self.d_model, tf.float32)\n",
    "\n",
    "    self.warmup_steps = warmup_steps\n",
    "\n",
    "  def __call__(self, step):\n",
    "    arg1 = tf.math.rsqrt(step)\n",
    "    arg2 = step * (self.warmup_steps**-1.5)\n",
    "\n",
    "    return tf.math.rsqrt(self.d_model) * tf.math.minimum(arg1, arg2)"
   ]
  },
  {
   "cell_type": "code",
   "execution_count": 28,
   "id": "21e02926",
   "metadata": {},
   "outputs": [
    {
     "name": "stdout",
     "output_type": "stream",
     "text": [
      "14776.25\n"
     ]
    },
    {
     "data": {
      "text/plain": [
       "Text(0.5, 0, 'Train Step')"
      ]
     },
     "execution_count": 28,
     "metadata": {},
     "output_type": "execute_result"
    },
    {
     "data": {
      "image/png": "[encoded data removed]",
      "text/plain": [
       "<Figure size 432x288 with 1 Axes>"
      ]
     },
     "metadata": {
      "needs_background": "light"
     },
     "output_type": "display_data"
    }
   ],
   "source": [
    "# sample_learning_rate = CustomSchedule(d_model=D_MODEL)\n",
    "sample_learning_rate = CustomSchedule(d_model=D_MODEL)\n",
    "total_step = EPOCHS * len(questions)/BATCH_SIZE\n",
    "print(total_step)\n",
    "plt.plot(sample_learning_rate(tf.range(20000, dtype=tf.float32)))\n",
    "plt.ylabel(\"Learning Rate\")\n",
    "plt.xlabel(\"Train Step\")"
   ]
  },
  {
   "cell_type": "code",
   "execution_count": 29,
   "id": "138f5dd5",
   "metadata": {},
   "outputs": [],
   "source": [
    "learning_rate = CustomSchedule(D_MODEL)\n",
    "\n",
    "optimizer = tf.keras.optimizers.Adam(\n",
    "    learning_rate=learning_rate, beta_1=0.9, beta_2=0.98, epsilon=1e-9) \n",
    "\n",
    "def accuracy(y_true, y_pred):\n",
    "    y_true = tf.reshape(y_true, shape=(-1, MAX_LENGTH - 1))\n",
    "    return tf.keras.metrics.sparse_categorical_accuracy(y_true, y_pred)\n",
    "\n",
    "model.compile(optimizer=optimizer, loss=loss_function, metrics=[accuracy])\n"
   ]
  },
  {
   "cell_type": "code",
   "execution_count": 30,
   "id": "d094a037",
   "metadata": {},
   "outputs": [
    {
     "name": "stdout",
     "output_type": "stream",
     "text": [
      "Epoch 1/80\n",
      "185/185 [==============================] - 27s 46ms/step - loss: 1.9373 - accuracy: 0.0393\n",
      "Epoch 2/80\n",
      "185/185 [==============================] - 8s 45ms/step - loss: 1.4809 - accuracy: 0.0696\n",
      "Epoch 3/80\n",
      "185/185 [==============================] - 8s 45ms/step - loss: 1.2985 - accuracy: 0.0752\n",
      "Epoch 4/80\n",
      "185/185 [==============================] - 8s 45ms/step - loss: 1.1844 - accuracy: 0.0825\n",
      "Epoch 5/80\n",
      "185/185 [==============================] - 8s 45ms/step - loss: 1.0656 - accuracy: 0.0918\n",
      "Epoch 6/80\n",
      "185/185 [==============================] - 8s 46ms/step - loss: 0.9334 - accuracy: 0.1053\n",
      "Epoch 7/80\n",
      "185/185 [==============================] - 8s 46ms/step - loss: 0.7916 - accuracy: 0.1205\n",
      "Epoch 8/80\n",
      "185/185 [==============================] - 8s 46ms/step - loss: 0.6440 - accuracy: 0.1372\n",
      "Epoch 9/80\n",
      "185/185 [==============================] - 9s 46ms/step - loss: 0.5007 - accuracy: 0.1549\n",
      "Epoch 10/80\n",
      "185/185 [==============================] - 9s 46ms/step - loss: 0.3745 - accuracy: 0.1725\n",
      "Epoch 11/80\n",
      "185/185 [==============================] - 9s 46ms/step - loss: 0.2730 - accuracy: 0.1883\n",
      "Epoch 12/80\n",
      "185/185 [==============================] - 9s 46ms/step - loss: 0.1991 - accuracy: 0.2002\n",
      "Epoch 13/80\n",
      "185/185 [==============================] - 9s 47ms/step - loss: 0.1496 - accuracy: 0.2095\n",
      "Epoch 14/80\n",
      "185/185 [==============================] - 9s 46ms/step - loss: 0.1229 - accuracy: 0.2145\n",
      "Epoch 15/80\n",
      "185/185 [==============================] - 9s 47ms/step - loss: 0.0970 - accuracy: 0.2200\n",
      "Epoch 16/80\n",
      "185/185 [==============================] - 9s 47ms/step - loss: 0.0770 - accuracy: 0.2244\n",
      "Epoch 17/80\n",
      "185/185 [==============================] - 9s 46ms/step - loss: 0.0647 - accuracy: 0.2272\n",
      "Epoch 18/80\n",
      "185/185 [==============================] - 9s 46ms/step - loss: 0.0532 - accuracy: 0.2301\n",
      "Epoch 19/80\n",
      "185/185 [==============================] - 9s 46ms/step - loss: 0.0467 - accuracy: 0.2319\n",
      "Epoch 20/80\n",
      "185/185 [==============================] - 9s 46ms/step - loss: 0.0416 - accuracy: 0.2330\n",
      "Epoch 21/80\n",
      "185/185 [==============================] - 9s 46ms/step - loss: 0.0362 - accuracy: 0.2345\n",
      "Epoch 22/80\n",
      "185/185 [==============================] - 9s 46ms/step - loss: 0.0326 - accuracy: 0.2353\n",
      "Epoch 23/80\n",
      "185/185 [==============================] - 9s 46ms/step - loss: 0.0294 - accuracy: 0.2362\n",
      "Epoch 24/80\n",
      "185/185 [==============================] - 9s 46ms/step - loss: 0.0259 - accuracy: 0.2371\n",
      "Epoch 25/80\n",
      "185/185 [==============================] - 9s 46ms/step - loss: 0.0239 - accuracy: 0.2378\n",
      "Epoch 26/80\n",
      "185/185 [==============================] - 9s 46ms/step - loss: 0.0220 - accuracy: 0.2380\n",
      "Epoch 27/80\n",
      "185/185 [==============================] - 9s 46ms/step - loss: 0.0205 - accuracy: 0.2386\n",
      "Epoch 28/80\n",
      "185/185 [==============================] - 9s 46ms/step - loss: 0.0192 - accuracy: 0.2388\n",
      "Epoch 29/80\n",
      "185/185 [==============================] - 9s 46ms/step - loss: 0.0169 - accuracy: 0.2395\n",
      "Epoch 30/80\n",
      "185/185 [==============================] - 9s 46ms/step - loss: 0.0166 - accuracy: 0.2395\n",
      "Epoch 31/80\n",
      "185/185 [==============================] - 9s 46ms/step - loss: 0.0157 - accuracy: 0.2397\n",
      "Epoch 32/80\n",
      "185/185 [==============================] - 9s 46ms/step - loss: 0.0144 - accuracy: 0.2401\n",
      "Epoch 33/80\n",
      "185/185 [==============================] - 9s 46ms/step - loss: 0.0138 - accuracy: 0.2402\n",
      "Epoch 34/80\n",
      "185/185 [==============================] - 9s 47ms/step - loss: 0.0126 - accuracy: 0.2405\n",
      "Epoch 35/80\n",
      "185/185 [==============================] - 9s 47ms/step - loss: 0.0121 - accuracy: 0.2407\n",
      "Epoch 36/80\n",
      "185/185 [==============================] - 9s 47ms/step - loss: 0.0115 - accuracy: 0.2410\n",
      "Epoch 37/80\n",
      "185/185 [==============================] - 9s 47ms/step - loss: 0.0112 - accuracy: 0.2410\n",
      "Epoch 38/80\n",
      "185/185 [==============================] - 9s 47ms/step - loss: 0.0111 - accuracy: 0.2410\n",
      "Epoch 39/80\n",
      "185/185 [==============================] - 9s 48ms/step - loss: 0.0102 - accuracy: 0.2412\n",
      "Epoch 40/80\n",
      "185/185 [==============================] - 9s 47ms/step - loss: 0.0092 - accuracy: 0.2414\n",
      "Epoch 41/80\n",
      "185/185 [==============================] - 9s 47ms/step - loss: 0.0095 - accuracy: 0.2413\n",
      "Epoch 42/80\n",
      "185/185 [==============================] - 9s 47ms/step - loss: 0.0085 - accuracy: 0.2416\n",
      "Epoch 43/80\n",
      "185/185 [==============================] - 9s 47ms/step - loss: 0.0090 - accuracy: 0.2415\n",
      "Epoch 44/80\n",
      "185/185 [==============================] - 9s 47ms/step - loss: 0.0083 - accuracy: 0.2416\n",
      "Epoch 45/80\n",
      "185/185 [==============================] - 9s 47ms/step - loss: 0.0078 - accuracy: 0.2416\n",
      "Epoch 46/80\n",
      "185/185 [==============================] - 9s 47ms/step - loss: 0.0077 - accuracy: 0.2417\n",
      "Epoch 47/80\n",
      "185/185 [==============================] - 9s 47ms/step - loss: 0.0073 - accuracy: 0.2419\n",
      "Epoch 48/80\n",
      "185/185 [==============================] - 9s 47ms/step - loss: 0.0073 - accuracy: 0.2419\n",
      "Epoch 49/80\n",
      "185/185 [==============================] - 9s 46ms/step - loss: 0.0069 - accuracy: 0.2419\n",
      "Epoch 50/80\n",
      "185/185 [==============================] - 9s 47ms/step - loss: 0.0071 - accuracy: 0.2419\n",
      "Epoch 51/80\n",
      "185/185 [==============================] - 9s 47ms/step - loss: 0.0069 - accuracy: 0.2420\n",
      "Epoch 52/80\n",
      "185/185 [==============================] - 9s 47ms/step - loss: 0.0062 - accuracy: 0.2421\n",
      "Epoch 53/80\n",
      "185/185 [==============================] - 9s 46ms/step - loss: 0.0062 - accuracy: 0.2421\n",
      "Epoch 54/80\n",
      "185/185 [==============================] - 9s 47ms/step - loss: 0.0061 - accuracy: 0.2422\n",
      "Epoch 55/80\n",
      "185/185 [==============================] - 9s 47ms/step - loss: 0.0059 - accuracy: 0.2422\n",
      "Epoch 56/80\n",
      "185/185 [==============================] - 9s 47ms/step - loss: 0.0056 - accuracy: 0.2422\n",
      "Epoch 57/80\n",
      "185/185 [==============================] - 9s 47ms/step - loss: 0.0052 - accuracy: 0.2423\n",
      "Epoch 58/80\n",
      "185/185 [==============================] - 9s 47ms/step - loss: 0.0057 - accuracy: 0.2422\n",
      "Epoch 59/80\n",
      "185/185 [==============================] - 9s 46ms/step - loss: 0.0054 - accuracy: 0.2422\n",
      "Epoch 60/80\n",
      "185/185 [==============================] - 9s 46ms/step - loss: 0.0052 - accuracy: 0.2423\n",
      "Epoch 61/80\n",
      "185/185 [==============================] - 9s 46ms/step - loss: 0.0050 - accuracy: 0.2423\n",
      "Epoch 62/80\n",
      "185/185 [==============================] - 9s 46ms/step - loss: 0.0048 - accuracy: 0.2423\n",
      "Epoch 63/80\n",
      "185/185 [==============================] - 9s 46ms/step - loss: 0.0052 - accuracy: 0.2423\n",
      "Epoch 64/80\n",
      "185/185 [==============================] - 9s 46ms/step - loss: 0.0048 - accuracy: 0.2424\n",
      "Epoch 65/80\n",
      "185/185 [==============================] - 9s 46ms/step - loss: 0.0045 - accuracy: 0.2424\n",
      "Epoch 66/80\n",
      "185/185 [==============================] - 9s 46ms/step - loss: 0.0047 - accuracy: 0.2424\n",
      "Epoch 67/80\n",
      "185/185 [==============================] - 9s 46ms/step - loss: 0.0045 - accuracy: 0.2425\n",
      "Epoch 68/80\n",
      "185/185 [==============================] - 9s 46ms/step - loss: 0.0046 - accuracy: 0.2424\n",
      "Epoch 69/80\n",
      "185/185 [==============================] - 9s 47ms/step - loss: 0.0040 - accuracy: 0.2425\n",
      "Epoch 70/80\n",
      "185/185 [==============================] - 9s 46ms/step - loss: 0.0045 - accuracy: 0.2424\n",
      "Epoch 71/80\n",
      "185/185 [==============================] - 9s 46ms/step - loss: 0.0043 - accuracy: 0.2424\n",
      "Epoch 72/80\n",
      "185/185 [==============================] - 9s 46ms/step - loss: 0.0041 - accuracy: 0.2425\n",
      "Epoch 73/80\n",
      "185/185 [==============================] - 9s 46ms/step - loss: 0.0039 - accuracy: 0.2425\n",
      "Epoch 74/80\n",
      "185/185 [==============================] - 9s 46ms/step - loss: 0.0040 - accuracy: 0.2425\n",
      "Epoch 75/80\n",
      "185/185 [==============================] - 9s 46ms/step - loss: 0.0038 - accuracy: 0.2425\n",
      "Epoch 76/80\n",
      "185/185 [==============================] - 9s 46ms/step - loss: 0.0036 - accuracy: 0.2426\n",
      "Epoch 77/80\n",
      "185/185 [==============================] - 9s 46ms/step - loss: 0.0038 - accuracy: 0.2426\n",
      "Epoch 78/80\n",
      "185/185 [==============================] - 9s 46ms/step - loss: 0.0039 - accuracy: 0.2425\n",
      "Epoch 79/80\n",
      "185/185 [==============================] - 9s 46ms/step - loss: 0.0038 - accuracy: 0.2426\n",
      "Epoch 80/80\n",
      "185/185 [==============================] - 9s 46ms/step - loss: 0.0034 - accuracy: 0.2426\n"
     ]
    },
    {
     "data": {
      "text/plain": [
       "<keras.callbacks.History at 0x7f39c5143310>"
      ]
     },
     "execution_count": 30,
     "metadata": {},
     "output_type": "execute_result"
    }
   ],
   "source": [
    "model.fit(dataset, epochs=EPOCHS, verbose=1)"
   ]
  },
  {
   "cell_type": "markdown",
   "id": "671d1547",
   "metadata": {},
   "source": [
    "#### Step 5. 모델 평가하기"
   ]
  },
  {
   "cell_type": "code",
   "execution_count": 31,
   "id": "95d10ade",
   "metadata": {},
   "outputs": [],
   "source": [
    "def decoder_inference(sentence):\n",
    "  sentence = preprocess_sentence(sentence)\n",
    "\n",
    "  # 입력된 문장을 정수 인코딩 후, 시작 토큰과 종료 토큰을 앞뒤로 추가.\n",
    "  # ex) Where have you been? → [[8331   86   30    5 1059    7 8332]]\n",
    "  sentence = tf.expand_dims(\n",
    "      START_TOKEN + tokenizer.encode(sentence) + END_TOKEN, axis=0)\n",
    "\n",
    "  # 디코더의 현재까지의 예측한 출력 시퀀스가 지속적으로 저장되는 변수.\n",
    "  # 처음에는 예측한 내용이 없음으로 시작 토큰만 별도 저장. ex) 8331\n",
    "  output_sequence = tf.expand_dims(START_TOKEN, 0)\n",
    "\n",
    "  # 디코더의 인퍼런스 단계\n",
    "  for i in range(MAX_LENGTH):\n",
    "    # 디코더는 최대 MAX_LENGTH의 길이만큼 다음 단어 예측을 반복합니다.\n",
    "    predictions = model(inputs=[sentence, output_sequence], training=False)\n",
    "    predictions = predictions[:, -1:, :]\n",
    "\n",
    "    # 현재 예측한 단어의 정수\n",
    "    predicted_id = tf.cast(tf.argmax(predictions, axis=-1), tf.int32)\n",
    "\n",
    "    # 만약 현재 예측한 단어가 종료 토큰이라면 for문을 종료\n",
    "    if tf.equal(predicted_id, END_TOKEN[0]):\n",
    "      break\n",
    "\n",
    "    # 예측한 단어들은 지속적으로 output_sequence에 추가됩니다.\n",
    "    # 이 output_sequence는 다시 디코더의 입력이 됩니다.\n",
    "    output_sequence = tf.concat([output_sequence, predicted_id], axis=-1)\n",
    "\n",
    "  return tf.squeeze(output_sequence, axis=0)"
   ]
  },
  {
   "cell_type": "code",
   "execution_count": 32,
   "id": "87c03c72",
   "metadata": {},
   "outputs": [],
   "source": [
    "def sentence_generation(sentence):\n",
    "  prediction = preprocess_sentence(sentence) \n",
    "  # 입력 문장에 대해서 디코더를 동작 시켜 예측된 정수 시퀀스를 리턴받습니다.\n",
    "  prediction = decoder_inference(prediction)\n",
    "  \n",
    "  # 정수 시퀀스를 다시 텍스트 시퀀스로 변환합니다.\n",
    "  predicted_sentence = tokenizer.decode(\n",
    "      [i for i in prediction if i < tokenizer.vocab_size])\n",
    "\n",
    "  print('입력 : {}'.format(sentence))\n",
    "  print('출력 : {}'.format(predicted_sentence))\n",
    "\n",
    "  return predicted_sentence"
   ]
  },
  {
   "cell_type": "code",
   "execution_count": 33,
   "id": "2fa653ff",
   "metadata": {},
   "outputs": [
    {
     "name": "stdout",
     "output_type": "stream",
     "text": [
      "입력 : 우리집에 왜왔어\n",
      "출력 : 똑같은 감정을 숨기는 어려운 일이에요 .\n"
     ]
    },
    {
     "data": {
      "text/plain": [
       "'똑같은 감정을 숨기는 어려운 일이에요 .'"
      ]
     },
     "execution_count": 33,
     "metadata": {},
     "output_type": "execute_result"
    }
   ],
   "source": [
    "sentence_generation(\"우리집에 왜왔어\")"
   ]
  },
  {
   "cell_type": "code",
   "execution_count": 34,
   "id": "dbf682f4",
   "metadata": {},
   "outputs": [
    {
     "name": "stdout",
     "output_type": "stream",
     "text": [
      "입력 : 아니 왜왔냐고\n",
      "출력 : 많이 힘들었을 거라 생각해요 .\n"
     ]
    },
    {
     "data": {
      "text/plain": [
       "'많이 힘들었을 거라 생각해요 .'"
      ]
     },
     "execution_count": 34,
     "metadata": {},
     "output_type": "execute_result"
    }
   ],
   "source": [
    "sentence_generation(\"아니 왜왔냐고\")"
   ]
  },
  {
   "cell_type": "code",
   "execution_count": 35,
   "id": "07aa35f3",
   "metadata": {},
   "outputs": [
    {
     "name": "stdout",
     "output_type": "stream",
     "text": [
      "입력 : 게임 만드는건 재밌어\n",
      "출력 : 게임할때는 시간이 더 빨리 가요 .\n"
     ]
    },
    {
     "data": {
      "text/plain": [
       "'게임할때는 시간이 더 빨리 가요 .'"
      ]
     },
     "execution_count": 35,
     "metadata": {},
     "output_type": "execute_result"
    }
   ],
   "source": [
    "sentence_generation(\"게임 만드는건 재밌어\")"
   ]
  },
  {
   "cell_type": "code",
   "execution_count": 36,
   "id": "180428e0",
   "metadata": {},
   "outputs": [
    {
     "name": "stdout",
     "output_type": "stream",
     "text": [
      "입력 : 널 죽이겠다\n",
      "출력 : 고민한 결과일거예요 .\n"
     ]
    },
    {
     "data": {
      "text/plain": [
       "'고민한 결과일거예요 .'"
      ]
     },
     "execution_count": 36,
     "metadata": {},
     "output_type": "execute_result"
    }
   ],
   "source": [
    "sentence_generation(\"널 죽이겠다\")"
   ]
  },
  {
   "cell_type": "markdown",
   "id": "cfedbc3f",
   "metadata": {},
   "source": [
    "#### 모델 저장 후 테스트 "
   ]
  },
  {
   "cell_type": "code",
   "execution_count": 37,
   "id": "a7c9b775",
   "metadata": {},
   "outputs": [
    {
     "name": "stderr",
     "output_type": "stream",
     "text": [
      "WARNING:absl:Found untraced functions such as dense_layer_call_fn, dense_layer_call_and_return_conditional_losses, dense_1_layer_call_fn, dense_1_layer_call_and_return_conditional_losses, dense_2_layer_call_fn while saving (showing 5 of 120). These functions will not be directly callable after loading.\n"
     ]
    },
    {
     "name": "stdout",
     "output_type": "stream",
     "text": [
      "INFO:tensorflow:Assets written to: ./comfort_bot1/assets\n"
     ]
    },
    {
     "name": "stderr",
     "output_type": "stream",
     "text": [
      "INFO:tensorflow:Assets written to: ./comfort_bot1/assets\n"
     ]
    }
   ],
   "source": [
    "model.optimizer = None\n",
    "model.save('./comfort_bot1')"
   ]
  },
  {
   "cell_type": "code",
   "execution_count": 38,
   "id": "fdd19ac0",
   "metadata": {},
   "outputs": [
    {
     "name": "stdout",
     "output_type": "stream",
     "text": [
      "WARNING:tensorflow:No training configuration found in save file, so the model was *not* compiled. Compile it manually.\n"
     ]
    },
    {
     "name": "stderr",
     "output_type": "stream",
     "text": [
      "WARNING:tensorflow:No training configuration found in save file, so the model was *not* compiled. Compile it manually.\n"
     ]
    }
   ],
   "source": [
    "new_model = tf.keras.models.load_model('comfort_bot1')"
   ]
  },
  {
   "cell_type": "code",
   "execution_count": 39,
   "id": "f7e53662",
   "metadata": {},
   "outputs": [],
   "source": [
    "def decoder_inference2(sentence, _new_model):\n",
    "  sentence = preprocess_sentence(sentence)\n",
    "\n",
    "  # 입력된 문장을 정수 인코딩 후, 시작 토큰과 종료 토큰을 앞뒤로 추가.\n",
    "  # ex) Where have you been? → [[8331   86   30    5 1059    7 8332]]\n",
    "  sentence = tf.expand_dims(\n",
    "      START_TOKEN + tokenizer.encode(sentence) + END_TOKEN, axis=0)\n",
    "\n",
    "  # 디코더의 현재까지의 예측한 출력 시퀀스가 지속적으로 저장되는 변수.\n",
    "  # 처음에는 예측한 내용이 없음으로 시작 토큰만 별도 저장. ex) 8331\n",
    "  output_sequence = tf.expand_dims(START_TOKEN, 0)\n",
    "\n",
    "  # 디코더의 인퍼런스 단계\n",
    "  for i in range(MAX_LENGTH):\n",
    "    # 디코더는 최대 MAX_LENGTH의 길이만큼 다음 단어 예측을 반복합니다.\n",
    "    predictions = _new_model(inputs=[sentence, output_sequence], training=False)\n",
    "    predictions = predictions[:, -1:, :]\n",
    "\n",
    "    # 현재 예측한 단어의 정수\n",
    "    predicted_id = tf.cast(tf.argmax(predictions, axis=-1), tf.int32)\n",
    "\n",
    "    # 만약 현재 예측한 단어가 종료 토큰이라면 for문을 종료\n",
    "    if tf.equal(predicted_id, END_TOKEN[0]):\n",
    "      break\n",
    "\n",
    "    # 예측한 단어들은 지속적으로 output_sequence에 추가됩니다.\n",
    "    # 이 output_sequence는 다시 디코더의 입력이 됩니다.\n",
    "    output_sequence = tf.concat([output_sequence, predicted_id], axis=-1)\n",
    "\n",
    "  return tf.squeeze(output_sequence, axis=0)"
   ]
  },
  {
   "cell_type": "code",
   "execution_count": 40,
   "id": "fad8a833",
   "metadata": {},
   "outputs": [],
   "source": [
    "def sentence_generation2(_sentence, _new_model):\n",
    "#   prediction = preprocess_sentence(sentence) \n",
    "  # 입력 문장에 대해서 디코더를 동작 시켜 예측된 정수 시퀀스를 리턴받습니다.\n",
    "  prediction = decoder_inference2(_sentence, _new_model)\n",
    "  \n",
    "  # 정수 시퀀스를 다시 텍스트 시퀀스로 변환합니다.\n",
    "  predicted_sentence = tokenizer.decode(\n",
    "      [i for i in prediction if i < tokenizer.vocab_size])\n",
    "\n",
    "  print('입력 : {}'.format(_sentence))\n",
    "  print('출력 : {}'.format(predicted_sentence))\n",
    "\n",
    "  return predicted_sentence"
   ]
  },
  {
   "cell_type": "code",
   "execution_count": 41,
   "id": "72197bfc",
   "metadata": {},
   "outputs": [
    {
     "name": "stdout",
     "output_type": "stream",
     "text": [
      "입력 : 너 뭐하는 놈이야\n",
      "출력 : 저는 위로해드리는 로봇이에요 .\n"
     ]
    },
    {
     "data": {
      "text/plain": [
       "'저는 위로해드리는 로봇이에요 .'"
      ]
     },
     "execution_count": 41,
     "metadata": {},
     "output_type": "execute_result"
    }
   ],
   "source": [
    "sentence_generation('너 뭐하는 놈이야')"
   ]
  }
 ],
 "metadata": {
  "kernelspec": {
   "display_name": "Python 3 (ipykernel)",
   "language": "python",
   "name": "python3"
  },
  "language_info": {
   "codemirror_mode": {
    "name": "ipython",
    "version": 3
   },
   "file_extension": ".py",
   "mimetype": "text/x-python",
   "name": "python",
   "nbconvert_exporter": "python",
   "pygments_lexer": "ipython3",
   "version": "3.9.7"
  }
 },
 "nbformat": 4,
 "nbformat_minor": 5
}
